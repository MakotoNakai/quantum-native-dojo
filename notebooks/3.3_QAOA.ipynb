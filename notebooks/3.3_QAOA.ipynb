{
 "cells": [
  {
   "cell_type": "markdown",
   "metadata": {},
   "source": [
    "# QAOA \n",
    "# (Quantum Approximate Optimazation Algorithm: 量子近似最適化アルゴリズム)"
   ]
  },
  {
   "cell_type": "markdown",
   "metadata": {},
   "source": [
    "## 概要\n",
    "\n",
    "　量子コンピュータで最適化というと、量子アニーラーのイメージが強いが、ゲート型でも特定の最適化問題は解くことができる。QAOAとは、そんなゲート型量子コンピュータを用いて、組み合わせ最適化問題(最適な組み合わせを選ぶ、最適化問題の一種)の解を求めるためのアルゴリズムである。"
   ]
  },
  {
   "cell_type": "markdown",
   "metadata": {},
   "source": [
    "## 数学的説明\n",
    "\n",
    "最適な解を1番ハミルトニアン(エネルギー演算子)の値が最も小さい状態とすると、以下のようなシュレディンガー方程式が書ける。　\n",
    "\n",
    "$-i\\frac{\\partial}{\\partial t}|\\psi\\rangle = \\hat{H}(t)|\\psi\\rangle$ (今後の計算のために$\\hbar$は省略している)\n",
    "\n",
    "ここで、[1]より $|\\psi\\rangle = exp(- i\\hat{H}(t))|\\psi\\rangle$と導け、$\\hat{U}(t) = exp(- i\\hat{H}(t))$とおくと、$|\\psi\\rangle = \\hat{U}(t)|\\psi\\rangle$と言える。ちなみに、この$\\hat{U}(t)$は時間発展演算子という。"
   ]
  },
  {
   "cell_type": "markdown",
   "metadata": {},
   "source": [
    "そして、両辺の演算子の関係は以下のようになる。$-i\\frac{\\partial}{\\partial t}\\hat{U}(t) = \\hat{H}(t)\\hat{U}(t)$ \n",
    "\n",
    "よって、$\\hat{U}(t) = \\frac{1}{i}\\int_0^t \\hat{H}\\hat{U}(t) dt + \\hat{C} = -i\\int_0^t \\hat{H}\\hat{U}(t) dt + \\hat{C} $ \n",
    "\n",
    "ここで、$t = 0$の時$\\hat{C} = \\hat{U}(t) = 1$より、$\\hat{U}(t) = 1 -i \\int_0^t \\hat{H}\\hat{U}(t') dt'$と書き換えられる。"
   ]
  },
  {
   "cell_type": "markdown",
   "metadata": {},
   "source": [
    "よく見ると、両辺に$\\hat{U}(t)$と$\\hat{U}(t')$という同じ関数が入っているので、式を展開すると、\n",
    "\n",
    "$\\hat{U}(t) = 1 -i \\int_0^t \\hat{H}(t')dt' + (-i)^{2}\\int_0^t \\int_0^{t'}\\hat{H}(t')\\hat{H}(t'')\\hat{U}(t'') dt''dt'$と書き換えられる。　\n",
    "\n",
    "よって、これを無限に積分すると、$\\hat{U}(t) = 1 -i \\int_0^t \\hat{H}(t')dt' + (-i)^{2}\\int_0^t \\int_0^{t'}\\hat{H}(t')\\hat{H}(t'')\\hat{U}(t'') dt''dt' + (-i)^{3}\\int_0^t \\int_0^{t'} \\int_0^{t''} \\hat{H}(t')\\hat{H}(t'') \\hat{H}(t''')\\hat{U}(t''') dt''' dt''dt' + \\cdots$と展開できる。"
   ]
  },
  {
   "cell_type": "markdown",
   "metadata": {},
   "source": [
    "よって、$\\hat{U}(t) = \\exp(\\int_0^t -i\\hat{H}(t) dt) = \\exp(-i\\hat{H}(t) dt)\\exp(-i\\hat{H}(t-dt) dt) \\cdots \\exp(-i\\hat{H}(dt) dt)\\exp(-i\\hat{H}(0) dt)$と表せる。　\n",
    "\n",
    "ここで、２つのハミルトニアンは非可換なのでトロッター展開[2]より、\n",
    "$\\exp(-i\\hat{H}(dt) dt) \\approx \\exp(-i\\hat{H}(1-t)(dt) dt) \\exp(-i\\hat{H}t(dt) dt)$である。\n",
    "\n",
    "更に、$\\beta = (1-t)dt, \\gamma = tdt$とおくと、$H_{ref}$の量子状態に$U(t) = \\prod_{i=1}^p \\exp(-i\\beta_{i} \\hat{H}_{ref})\\exp(-i\\gamma_{i} \\hat{H}_{cost})$を作用させると最適解に近づく。"
   ]
  },
  {
   "cell_type": "markdown",
   "metadata": {},
   "source": [
    "## アルゴリズムの手順\n",
    "\n",
    "ここでは繰り返し回数が1回の時の手順を示す。繰り返し回数とは、以下のステップ2と3を行う回数を指す。\n",
    "\n",
    "1. 重ね合わせ状態$|+\\rangle^{\\otimes n}$を作る。($n$は量子レジスタ数) \n",
    "\n",
    "2. 任意の角度$\\beta, \\gamma$を選び、量子ビットのペア全てに$CNOT_{i,j}(i \\neq j),R_{z}(2\\gamma),CNOT_{i,j}(i \\neq j)$を掛ける。[3] \n",
    "\n",
    "3. 各量子レジスタに$R_{x}(2\\beta)$を掛ける。  [3]\n",
    "\n",
    "4. $\\langle \\beta, \\gamma |H_0 |\\beta, \\gamma \\rangle$ を最小にする$\\beta, \\gamma$ を古典コンピュータで求める。\n",
    "\n",
    "5. 2-4を繰り返し、複数回の試行の中で$\\langle \\beta, \\gamma |H_0 |\\beta, \\gamma \\rangle$が最小になった時の$\\beta, \\gamma$で1-3を繰り返し、量子レジスタを測定する。　"
   ]
  },
  {
   "cell_type": "markdown",
   "metadata": {},
   "source": [
    "## Maxcut問題の説明\n",
    "![220px-Min-cut svg](https://user-images.githubusercontent.com/45162150/54339910-82be2f80-4679-11e9-9b9c-a8eab23e1d2d.png)(引用元[5])\n",
    "\n",
    "Maxcut問題とは、重み付きのノード(頂点)$N$を２つに分割する問題で、分割されるエッジの総和を最大化する問題である。[6] \n",
    "分割する一方のグループの重みを1,もう片方の重みを-1とすると、\n",
    "$$ C_{\\alpha} = \\sum_{i,j\\in N}^{} (1-\\sigma_{i}\\sigma_{j})$$を最大化する問題である。　"
   ]
  },
  {
   "cell_type": "markdown",
   "metadata": {},
   "source": [
    "## 実装\n",
    "今からQAOAを株式会社Qunasysが開発してる量子シミュレータQulacsを用いて実装していく。今回はQAOAを用いてMaxcut問題を解いていく。"
   ]
  },
  {
   "cell_type": "code",
   "execution_count": 10,
   "metadata": {},
   "outputs": [],
   "source": [
    "from qulacs import QuantumState,QuantumCircuit,ParametricQuantumCircuit,Observable\n",
    "from qulacs.gate import H,CNOT,RX,RZ\n",
    "from scipy.optimize import minimize\n",
    "import numpy as np"
   ]
  },
  {
   "cell_type": "code",
   "execution_count": 16,
   "metadata": {},
   "outputs": [
    {
     "ename": "AttributeError",
     "evalue": "'function' object has no attribute 'get_expectation_value'",
     "output_type": "error",
     "traceback": [
      "\u001b[0;31m---------------------------------------------------------------------------\u001b[0m",
      "\u001b[0;31mAttributeError\u001b[0m                            Traceback (most recent call last)",
      "\u001b[0;32m<ipython-input-16-4b2c21265862>\u001b[0m in \u001b[0;36m<module>\u001b[0;34m\u001b[0m\n\u001b[1;32m     24\u001b[0m     \u001b[0mobservable\u001b[0m\u001b[0;34m.\u001b[0m\u001b[0mget_expectation_value\u001b[0m\u001b[0;34m(\u001b[0m\u001b[0mstate\u001b[0m\u001b[0;34m)\u001b[0m\u001b[0;34m\u001b[0m\u001b[0;34m\u001b[0m\u001b[0m\n\u001b[1;32m     25\u001b[0m \u001b[0;34m\u001b[0m\u001b[0m\n\u001b[0;32m---> 26\u001b[0;31m \u001b[0mminimize\u001b[0m\u001b[0;34m(\u001b[0m\u001b[0mobservable\u001b[0m\u001b[0;34m(\u001b[0m\u001b[0;36m0\u001b[0m\u001b[0;34m,\u001b[0m\u001b[0;36m0\u001b[0m\u001b[0;34m)\u001b[0m\u001b[0;34m,\u001b[0m \u001b[0mx0\u001b[0m\u001b[0;34m=\u001b[0m\u001b[0;34m[\u001b[0m\u001b[0;34m(\u001b[0m\u001b[0;36m0\u001b[0m\u001b[0;34m,\u001b[0m\u001b[0mnp\u001b[0m\u001b[0;34m.\u001b[0m\u001b[0mpi\u001b[0m\u001b[0;34m)\u001b[0m\u001b[0;34m,\u001b[0m\u001b[0;34m(\u001b[0m\u001b[0;36m0\u001b[0m\u001b[0;34m,\u001b[0m\u001b[0;36m2\u001b[0m\u001b[0;34m*\u001b[0m\u001b[0mnp\u001b[0m\u001b[0;34m.\u001b[0m\u001b[0mpi\u001b[0m\u001b[0;34m)\u001b[0m\u001b[0;34m]\u001b[0m\u001b[0;34m,\u001b[0m \u001b[0mmethod\u001b[0m\u001b[0;34m=\u001b[0m\u001b[0;34m'Nelder-Mead'\u001b[0m\u001b[0;34m)\u001b[0m\u001b[0;34m\u001b[0m\u001b[0;34m\u001b[0m\u001b[0m\n\u001b[0m",
      "\u001b[0;32m<ipython-input-16-4b2c21265862>\u001b[0m in \u001b[0;36mobservable\u001b[0;34m(beta, gamma)\u001b[0m\n\u001b[1;32m     22\u001b[0m \u001b[0;34m\u001b[0m\u001b[0m\n\u001b[1;32m     23\u001b[0m     \u001b[0mcircuit\u001b[0m\u001b[0;34m.\u001b[0m\u001b[0mupdate_quantum_state\u001b[0m\u001b[0;34m(\u001b[0m\u001b[0mstate\u001b[0m\u001b[0;34m)\u001b[0m\u001b[0;34m\u001b[0m\u001b[0;34m\u001b[0m\u001b[0m\n\u001b[0;32m---> 24\u001b[0;31m     \u001b[0mobservable\u001b[0m\u001b[0;34m.\u001b[0m\u001b[0mget_expectation_value\u001b[0m\u001b[0;34m(\u001b[0m\u001b[0mstate\u001b[0m\u001b[0;34m)\u001b[0m\u001b[0;34m\u001b[0m\u001b[0;34m\u001b[0m\u001b[0m\n\u001b[0m\u001b[1;32m     25\u001b[0m \u001b[0;34m\u001b[0m\u001b[0m\n\u001b[1;32m     26\u001b[0m \u001b[0mminimize\u001b[0m\u001b[0;34m(\u001b[0m\u001b[0mobservable\u001b[0m\u001b[0;34m(\u001b[0m\u001b[0;36m0\u001b[0m\u001b[0;34m,\u001b[0m\u001b[0;36m0\u001b[0m\u001b[0;34m)\u001b[0m\u001b[0;34m,\u001b[0m \u001b[0mx0\u001b[0m\u001b[0;34m=\u001b[0m\u001b[0;34m[\u001b[0m\u001b[0;34m(\u001b[0m\u001b[0;36m0\u001b[0m\u001b[0;34m,\u001b[0m\u001b[0mnp\u001b[0m\u001b[0;34m.\u001b[0m\u001b[0mpi\u001b[0m\u001b[0;34m)\u001b[0m\u001b[0;34m,\u001b[0m\u001b[0;34m(\u001b[0m\u001b[0;36m0\u001b[0m\u001b[0;34m,\u001b[0m\u001b[0;36m2\u001b[0m\u001b[0;34m*\u001b[0m\u001b[0mnp\u001b[0m\u001b[0;34m.\u001b[0m\u001b[0mpi\u001b[0m\u001b[0;34m)\u001b[0m\u001b[0;34m]\u001b[0m\u001b[0;34m,\u001b[0m \u001b[0mmethod\u001b[0m\u001b[0;34m=\u001b[0m\u001b[0;34m'Nelder-Mead'\u001b[0m\u001b[0;34m)\u001b[0m\u001b[0;34m\u001b[0m\u001b[0;34m\u001b[0m\u001b[0m\n",
      "\u001b[0;31mAttributeError\u001b[0m: 'function' object has no attribute 'get_expectation_value'"
     ]
    }
   ],
   "source": [
    "n = 5 \n",
    "state = QuantumState(n)\n",
    "state.set_zero_state()\n",
    "\n",
    "circuit = QuantumCircuit(n)\n",
    "\n",
    "for i in range(1,n+1):\n",
    "    circuit.add_H_gate(i)\n",
    "    \n",
    "def gamma_circuit(circuit,gamma,i,j):\n",
    "    circuit.add_gate(CNOT(i,j))\n",
    "    circuit.add_gate(RZ(j,2*gamma))\n",
    "    circuit.add_gate(CNOT(i,j))\n",
    "    \n",
    "def beta_circuit(circuit, beta,i):\n",
    "    circuit.add_gate(RX(i,2*beta))\n",
    "    \n",
    "def observable(beta, gamma):\n",
    "    for i in range(1,n+1):\n",
    "        gamma_circuit(circuit,gamma,i,(i+1)%4)\n",
    "        beta_circuit(circuit, beta,i)\n",
    "        \n",
    "    circuit.update_quantum_state(state)\n",
    "    observable.get_expectation_value(state)\n",
    "    \n",
    "minimize(observable(0,0), x0=[(0,np.pi),(0,2*np.pi)], method='Nelder-Mead')"
   ]
  },
  {
   "cell_type": "code",
   "execution_count": null,
   "metadata": {},
   "outputs": [],
   "source": []
  },
  {
   "cell_type": "code",
   "execution_count": null,
   "metadata": {},
   "outputs": [],
   "source": []
  }
 ],
 "metadata": {
  "kernelspec": {
   "display_name": "Python 3",
   "language": "python",
   "name": "python3"
  },
  "language_info": {
   "codemirror_mode": {
    "name": "ipython",
    "version": 3
   },
   "file_extension": ".py",
   "mimetype": "text/x-python",
   "name": "python",
   "nbconvert_exporter": "python",
   "pygments_lexer": "ipython3",
   "version": "3.7.1"
  }
 },
 "nbformat": 4,
 "nbformat_minor": 2
}
